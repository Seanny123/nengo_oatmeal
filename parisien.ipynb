{
 "cells": [
  {
   "cell_type": "markdown",
   "metadata": {},
   "source": [
    "Basic example of Aaron's code from [this GitHub Nengo issue discusssion](https://github.com/nengo/nengo/issues/921#issuecomment-374277601)."
   ]
  },
  {
   "cell_type": "code",
   "execution_count": 16,
   "metadata": {},
   "outputs": [],
   "source": [
    "import time\n",
    "\n",
    "import numpy as np\n",
    "from scipy.optimize import nnls\n",
    "\n",
    "import nengo\n",
    "from nengo.params import NumberParam\n",
    "from nengo.solvers import Solver"
   ]
  },
  {
   "cell_type": "code",
   "execution_count": 8,
   "metadata": {},
   "outputs": [],
   "source": [
    "nengo.rc.set(\"decoder_cache\", \"enabled\", \"False\")"
   ]
  },
  {
   "cell_type": "code",
   "execution_count": 17,
   "metadata": {},
   "outputs": [],
   "source": [
    "class DalesSolver(Solver):\n",
    "    \"\"\"Solves for weights subject to Dale's principle.\"\"\"\n",
    "    \n",
    "    # TODO: needs testing (e.g., transforms), support for slicing\n",
    "    # TODO: currently doesn't support finger-printing by the cache\n",
    "\n",
    "    p_inh = NumberParam('p_inh', low=0, high=1)\n",
    "    \n",
    "    def __init__(self, p_inh=0.2):\n",
    "        super(DalesSolver, self).__init__(weights=True)\n",
    "        self.p_inh = p_inh\n",
    "\n",
    "    def __call__(self, A, Y, rng=None, E=None):\n",
    "        pre_n_neurons = A.shape[1]\n",
    "        post_n_neurons = E.shape[1]\n",
    "        \n",
    "        tstart = time.time()\n",
    "        i = int(self.p_inh * pre_n_neurons)\n",
    "\n",
    "        A[:, :i] *= (-1)\n",
    "        W = np.empty((pre_n_neurons, post_n_neurons))\n",
    "        J = Y.dot(E)\n",
    "        # TODO: make a version that uses nengo.solvers.NnlsL2\n",
    "        for j in range(post_n_neurons):\n",
    "            W[:, j], _ = nnls(A, J[:, j])\n",
    "        W[:i, :] *= (-1)\n",
    "\n",
    "        return W, {\n",
    "            'time': time.time() - tstart,\n",
    "            'i': i,}"
   ]
  },
  {
   "cell_type": "code",
   "execution_count": 18,
   "metadata": {},
   "outputs": [
    {
     "name": "stdout",
     "output_type": "stream",
     "text": [
      "Building finished in 0:00:01.                                                   \n",
      "Simulating finished in 0:00:01.                                                 \n",
      "Solver Info: {'time': 0.6614587306976318, 'i': 20}\n"
     ]
    }
   ],
   "source": [
    "tau = 0.1\n",
    "tau_probe = 0.005\n",
    "dt = 0.001\n",
    "\n",
    "with nengo.Network(seed=0) as model:\n",
    "    stim = nengo.Node(output=lambda t: 2*np.pi*5*np.cos(2*np.pi*5*t))\n",
    "    \n",
    "    x = nengo.Ensemble(100, 1)\n",
    "\n",
    "    # Discrete Principle 3 (Voelker & Eliasmith, 2017; eq 21)\n",
    "    nengo.Connection(stim, x, transform=dt / (1 - np.exp(-dt/tau)), synapse=tau)\n",
    "    conn = nengo.Connection(x, x, synapse=tau, solver=DalesSolver())\n",
    "    \n",
    "    p_stim = nengo.Probe(stim, synapse=tau_probe)\n",
    "    p_x = nengo.Probe(x, synapse=tau_probe)\n",
    "\n",
    "with nengo.Simulator(model, dt=dt, optimize=False) as sim:\n",
    "    sim.run(1.0)\n",
    "    \n",
    "print(\"Solver Info:\", sim.data[conn].solver_info)"
   ]
  }
 ],
 "metadata": {
  "kernelspec": {
   "display_name": "Python 3",
   "language": "python",
   "name": "python3"
  },
  "language_info": {
   "codemirror_mode": {
    "name": "ipython",
    "version": 3
   },
   "file_extension": ".py",
   "mimetype": "text/x-python",
   "name": "python",
   "nbconvert_exporter": "python",
   "pygments_lexer": "ipython3",
   "version": "3.6.3"
  }
 },
 "nbformat": 4,
 "nbformat_minor": 2
}
